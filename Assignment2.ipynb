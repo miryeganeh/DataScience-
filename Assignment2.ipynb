{
 "cells": [
  {
   "cell_type": "markdown",
   "metadata": {},
   "source": [
    "<h1> <center> ENSF 519.01 Applied Data Scince </center></h1>\n",
    "<h2> <center> Assignment 2: Supervisoed Machine Learning - Classification & Regression (25 marks)</center></h2>\n",
    "<h2> <center> Due: . Feb 16, 2018. To be submitted on D2L Dropbox </center></h2>\n"
   ]
  },
  {
   "cell_type": "markdown",
   "metadata": {},
   "source": [
    "This assignemnt focuses on applying basic classfication and regression techniques in the context of sofware quality and performance, in four parts. "
   ]
  },
  {
   "cell_type": "markdown",
   "metadata": {},
   "source": [
    "<h2>Part A. Defect Prediction (7 marks)</h2>\n",
    "<br>\n",
    "\n",
    "Software quality assurance (SQA) techniques (e.g., testing, code review, etc.) are among the major tasks in software development that try to eliminate software defects, as much as possible, prior to deployment. However, they are also expensive and time consuming. Therefore, it is very beneficial to narrow the scope of SQA to the parts of the software (e.g., files, classes, or even methods) that are defective. Obviously, before applying SQA, the defective parts are unknown, therefore, “software defect prediction” techniques try to use machine learning to predict which parts of the software (e.g., which files) are more likely to be defective. Thus the SQA effort can be proportionally allocated to them (more SQA resources for parts that are predicted to be defective). \n",
    "\n",
    "In Parts A, B, and C, you will apply several supervised machine learning techniques to a defect dataset from a software repository, which is belong to a NASA system. The dataset have collected a set of software related metrics from the history of the software, per module. They also recorded the existence of a defect per module. In other words, your feature set is the metrics array and the targets are the existence of defects. \n",
    "\n",
    "The goal is to build a model to predict the target based on the features from the historical data. \n",
    "\n",
    "To read more about the dataset and the features collected see:\n",
    "\n",
    "NASA dataset:http://openscience.us/repo/defect/mccabehalsted/jm1.html\n"
   ]
  },
  {
   "cell_type": "markdown",
   "metadata": {},
   "source": [
    "<h2>Binary Classification </h2>\n",
    "\n",
    "First, you should read the NASA data that is given to you as a .csv file ( NasaData.csv ). Use pandas read_csv function for this.\n",
    "\n",
    "After reading the data, build binary classification models with LogisticRegression, LinearSVC, GaussianNB, and KNeighborsClassifier, from SKLearn. Each model gets metrics as feature set and predicts either a defective (1) or not defective (0) label.\n",
    "\n",
    "Take 75% of data as training set and 25% of it as test set. To eliminate the randomness when splitting the data, you should run each classification technique 30 times with seeds from [1 to 30]. \n",
    "\n",
    "Using model_selection's train_test_split function, randomly select 1/4 of your dataset as training and 3/4 as testset. \n",
    "Calculate accuracies per technique and repeat this for a total of 30 random runs (every run will use a different random seed in train_test_split and return a separate accuracy value per model).\n",
    "\n",
    "Visualize the distribution of the accuracies for each model in a single box plot. All bosplots should be located in one plot, where The X_axis is the four classification techniques that you've applied and the Y_axis is the accuracies.\n",
    "\n",
    "Identify which model (with default parametrs) has the lowest and most unreliable resuls.\n",
    "\n",
    "Improve that model to be almost in par with others, using regularization.\n",
    "\n",
    "*** Note1 you must use pandas for both reading from CSV and visualizing boxplots ***\n",
    "<br>\n",
    "\n",
    "*** Note2 only show final results. That is after regularization for the worst technique, together with defaults for other techniques ***\n"
   ]
  },
  {
   "cell_type": "markdown",
   "metadata": {},
   "source": [
    "<b>Your Answer:</b> ..................."
   ]
  },
  {
   "cell_type": "code",
   "execution_count": 5,
   "metadata": {
    "scrolled": false
   },
   "outputs": [
    {
     "data": {
      "text/plain": [
       "(0, 1)"
      ]
     },
     "execution_count": 5,
     "metadata": {},
     "output_type": "execute_result"
    },
    {
     "data": {
      "image/png": "[encoded data removed]",
      "text/plain": [
       "<matplotlib.figure.Figure at 0x11116bf98>"
      ]
     },
     "metadata": {},
     "output_type": "display_data"
    }
   ],
   "source": [
    "## Part A.1. Solution\n",
    "\n",
    "import numpy as np\n",
    "import matplotlib.pyplot as plt\n",
    "import pandas as pd\n",
    "%matplotlib inline\n",
    "\n",
    "from sklearn.model_selection import train_test_split\n",
    "from sklearn.linear_model import LogisticRegression\n",
    "from sklearn.svm import LinearSVC\n",
    "from sklearn.naive_bayes import GaussianNB\n",
    "from sklearn.neighbors import KNeighborsClassifier\n",
    "\n",
    "def CSV_Reader(Filename):\n",
    "  data_target=pd.read_csv(Filename)\n",
    "  return [data_target.iloc[:,:-1],data_target.iloc[:,-1]]\n",
    "\n",
    "\n",
    "features,lables=CSV_Reader(\"NasaData.csv\")\n",
    "\n",
    "\n",
    "LogisReg_Scores=[]\n",
    "SVM_Scores=[]\n",
    "GaussNaiveBayes_Scores=[]\n",
    "KNN_Scores=[]\n",
    "for i in range(1,31):\n",
    "    \n",
    "    X_train, X_test, y_train, y_test = train_test_split(\n",
    "    features, lables,test_size=0.25,random_state=i)\n",
    "   \n",
    "    LogisReg = LogisticRegression().fit(X_train, y_train)\n",
    "    SVM=LinearSVC(C=0.0001).fit(X_train, y_train)\n",
    "    GaussNaiveBayes = GaussianNB().fit(X_train, y_train)\n",
    "    KNN = KNeighborsClassifier().fit(X_train, y_train)\n",
    "    \n",
    "    LogisReg_Scores.append(LogisReg.score(X_test, y_test))\n",
    "    SVM_Scores.append(SVM.score(X_test, y_test))\n",
    "    GaussNaiveBayes_Scores.append(GaussNaiveBayes.score(X_test, y_test))\n",
    "    KNN_Scores.append(KNN.score(X_test, y_test))\n",
    "\n",
    "axis=pd.DataFrame({\"LogisReg\":LogisReg_Scores,\"LinearSVC\":SVM_Scores, \"NaiveBayes\":GaussNaiveBayes_Scores, \"KNN\":KNN_Scores}).boxplot(return_type=\"axes\")\n",
    "axis.set_ylim([0,1])\n",
    "\n"
   ]
  },
  {
   "cell_type": "markdown",
   "metadata": {},
   "source": [
    "<h1>Part B. Model complexity (6 marks)</h1>\n",
    "<br><br>\n",
    "In this part, we will focus only on the kNN algorithm and try to tune model complexity as well as trying out another disctance function than the default.\n",
    "<h2>Part B.1. KNN complexity tuning (3 marks)</h2>\n",
    "In this part, we want to tune the value k in kNN for our NASA dataset. To do so, you should find a sweet spot that the model is neither overfitted nor underfitted. \n",
    "Here again take the NASA dataset and apply the model_selection's train_test_split with 75% training and 25% test data, but with a fix random_state=42.  \n",
    "\n",
    "Then build a K-Nearest-Neighbors model using k=1,3,5,..,49. Finally, plot the accuracy of your models on the training dataset and the testing dataset, using two lines in one plot.  \n",
    "\n",
    "Using this plot identify what the best value is for k."
   ]
  },
  {
   "cell_type": "code",
   "execution_count": 55,
   "metadata": {},
   "outputs": [
    {
     "data": {
      "image/png": "[encoded data removed]",
      "text/plain": [
       "<matplotlib.figure.Figure at 0x10ec392e8>"
      ]
     },
     "metadata": {},
     "output_type": "display_data"
    }
   ],
   "source": [
    "## Part B.1. Solution\n",
    "\n",
    "import numpy as np\n",
    "from sklearn.model_selection import train_test_split\n",
    "from sklearn.neighbors import KNeighborsClassifier\n",
    "import matplotlib.pyplot as plt\n",
    "\n",
    "def PlotDrawer(Plot_one,Plot_Two,X_axis):\n",
    "    plt.plot(X_axis,Plot_one,label=\"training accuracy\")\n",
    "    plt.plot(X_axis,Plot_Two,label=\"test accuracy\")\n",
    "    plt.ylabel('Mean Accuracy')\n",
    "    plt.xlabel('K-value')\n",
    "    plt.legend()\n",
    "    #plt.ylim(ymin=0)\n",
    "    plt.show()\n",
    "\n",
    "features,lables=CSV_Reader(\"NasaData.csv\")\n",
    "\n",
    "X_train, X_test, y_train, y_test = train_test_split(\n",
    "    features, lables,test_size=0.25,random_state=42)\n",
    "\n",
    "TrainingAcurracy=[]\n",
    "TestingAcurracy=[]\n",
    "DifferentK=[i*2-1 for i in range(1,25)]\n",
    "for K in DifferentK:\n",
    "    KNN = KNeighborsClassifier(n_neighbors=K).fit(X_train, y_train)\n",
    "    TrainingAcurracy.append(KNN.score(X_train, y_train))\n",
    "    TestingAcurracy.append(KNN.score(X_test, y_test))\n",
    "\n",
    "PlotDrawer(TrainingAcurracy,TestingAcurracy,DifferentK)\n"
   ]
  },
  {
   "cell_type": "markdown",
   "metadata": {},
   "source": [
    "<h2>Part B.2. KNN weight parameter (3 marks)</h2>\n",
    "\n",
    "Report your Part B.1. experiment but with KNN's 'weights' parameter set to 'distance'.\n",
    "\n",
    "Visualize the new results. \n",
    "\n",
    "Explain what has happend and why. "
   ]
  },
  {
   "cell_type": "code",
   "execution_count": 56,
   "metadata": {},
   "outputs": [
    {
     "data": {
      "image/png": "[encoded data removed]",
      "text/plain": [
       "<matplotlib.figure.Figure at 0x1a15650d68>"
      ]
     },
     "metadata": {},
     "output_type": "display_data"
    }
   ],
   "source": [
    "## Part B.2. Solution\n",
    "\n",
    "import numpy as np\n",
    "from sklearn.model_selection import train_test_split\n",
    "from sklearn.neighbors import KNeighborsClassifier\n",
    "import matplotlib.pyplot as plt\n",
    "\n",
    "def PlotDrawer(Plot_one,Plot_Two,X_axis):\n",
    "    plt.plot(X_axis,Plot_one,label=\"training accuracy\")\n",
    "    plt.plot(X_axis,Plot_Two,label=\"test accuracy\")\n",
    "    plt.ylabel('Mean Accuracy')\n",
    "    plt.xlabel('K-value')\n",
    "    plt.legend()\n",
    "    #plt.ylim(ymin=0)\n",
    "    plt.show()\n",
    "\n",
    "features,lables=CSV_Reader(\"NasaData.csv\")\n",
    "\n",
    "X_train, X_test, y_train, y_test = train_test_split(\n",
    "    features, lables,test_size=0.25,random_state=42)\n",
    "\n",
    "TrainingAcurracy=[]\n",
    "TestingAcurracy=[]\n",
    "DifferentK=[i*2-1 for i in range(1,25)]\n",
    "for K in DifferentK:\n",
    "    KNN = KNeighborsClassifier(n_neighbors=K, weights=\"distance\").fit(X_train, y_train)\n",
    "    TrainingAcurracy.append(KNN.score(X_train, y_train))\n",
    "    TestingAcurracy.append(KNN.score(X_test, y_test))\n",
    "\n",
    "PlotDrawer(TrainingAcurracy,TestingAcurracy,DifferentK)\n"
   ]
  },
  {
   "cell_type": "markdown",
   "metadata": {},
   "source": [
    "Answer:..."
   ]
  },
  {
   "cell_type": "markdown",
   "metadata": {},
   "source": [
    "<h1>Part C. Combining Models (8 marks)</h1>"
   ]
  },
  {
   "cell_type": "markdown",
   "metadata": {},
   "source": [
    "The goal of this section is to try to maximize our defect prediction accuracy on NASA dataset, by combining three models in Part A: (Logistic Regression, Gaussian Naive Bayes, and K-Nearest Neighbour) into one prediction.\n",
    "\n",
    "To do so, you need to implement a function, called Combine, that returns the weighted average votes, for any three models that it receives. \n",
    "\n",
    "Combine works as follows: \n",
    "\n",
    "1) Each model is trained individually \n",
    "\n",
    "2) Each model predicts the test set data points and calculates estimation probalibitiets as given by the models\n",
    "\n",
    "3) The final score per data point in the test set is calculated by the following formula:\n",
    "\n",
    "score=Sum(predict_i*probability_i)/3)\n",
    "\n",
    "where predict_i is the prediction by model_i (predictions are either -1 OR +1 for the two binary classes) and probability_i is the estimation probability (predict_proba) given by model_i.\n",
    "\n",
    "4) Finally, the weighted average vote is ZERO if the score is less than or equal to zero otherwise the weighted average vote is ONE\n",
    "\n",
    "\n",
    "Finally, calculate the accuracy of the combined model on the test data as follows:\n",
    "\n",
    "    Accuracy= number_of_Correct_prediction / total_number_of_predictions \n",
    "    \n",
    "All three models should be called by their default parameters as in Part A.\n",
    "    \n",
    "The same as Part A run the Combine model 30 times (with different random seeds) and visualize the results beside the indivudal models' reults, from Part A with a pandas boxplot.\n",
    "\n",
    "<font color='red'>Note1: Use numpy and Pandas as much as possible to increase performance </font>"
   ]
  },
  {
   "cell_type": "code",
   "execution_count": 60,
   "metadata": {},
   "outputs": [
    {
     "data": {
      "image/png": "[encoded data removed]",
      "text/plain": [
       "<matplotlib.figure.Figure at 0x10ebf3cc0>"
      ]
     },
     "metadata": {},
     "output_type": "display_data"
    }
   ],
   "source": [
    "## Part C.1. Solution\n",
    "\n",
    "import numpy as np\n",
    "from sklearn.model_selection import train_test_split\n",
    "from sklearn.linear_model import LogisticRegression\n",
    "from sklearn.naive_bayes import GaussianNB\n",
    "from sklearn.neighbors import KNeighborsClassifier\n",
    "import pandas as pd\n",
    "import matplotlib.pyplot as plt\n",
    "\n",
    "def Score(Predictions,Lables):\n",
    "\n",
    "    CorrectPredictions=0\n",
    "    for i,Pred in enumerate(Predictions):\n",
    "        if Pred== Lables[i]:\n",
    "            CorrectPredictions+=1\n",
    "    return CorrectPredictions/len(Lables)\n",
    "\n",
    "def Vote(Vote_one,Vote_two,Vote_three):\n",
    "    if Vote_one[0]==Vote_two[0] and Vote_two[0]==Vote_three[0]:\n",
    "        return Vote_one[0]\n",
    "\n",
    "    if (Vote_one[0]*Vote_one[1]+Vote_two[0]*Vote_two[1]+Vote_three[0]*Vote_three[1])/(Vote_one[1]+Vote_two[1]+Vote_three[1]) >= 0.5:\n",
    "        return max([max([Vote_one[0],Vote_two[0]]),Vote_three[0]])\n",
    "    else:\n",
    "        return min([min([Vote_one[0],Vote_two[0]]),Vote_three[0]])\n",
    "\n",
    "\n",
    "def combine(features, lables, Func_one, Func_two,Func_three,seed):\n",
    "    X_train, X_test, y_train, y_test = train_test_split(\n",
    "    features, lables,test_size=0.25,random_state=seed)\n",
    "\n",
    "    Model_one =  Func_one().fit(X_train, y_train)\n",
    "    Model_two = Func_two().fit(X_train, y_train)\n",
    "    Model_three =  Func_three().fit(X_train, y_train)\n",
    "    \n",
    "    Model_one_preds=Model_one.predict(np.array([observation for observation in X_test]))\n",
    "    Model_one_probs=np.array([max(probList) for probList in Model_one.predict_proba(np.array([observation for observation in X_test]))])\n",
    "\n",
    "    Model_two_preds=Model_two.predict(np.array([observation for observation in X_test]))\n",
    "    Model_two_probs=np.array([max(probList) for probList in Model_two.predict_proba(np.array([observation for observation in X_test]))])\n",
    "\n",
    "    Model_three_preds=Model_three.predict(np.array([observation for observation in X_test]))\n",
    "    Model_three_probs=np.array([max(probList) for probList in Model_three.predict_proba(np.array([observation for observation in X_test]))])\n",
    "\n",
    "    Combined_Preds=np.array([Vote([Model_one_preds[i],Model_one_probs[i]],[Model_two_preds[i],Model_two_probs[i]],[Model_three_preds[i],Model_three_probs[i]]) for i in range(len(X_test))])\n",
    "\n",
    "    return Score(Combined_Preds,y_test)\n",
    "\n",
    "\n",
    "features,lables=CSV_Reader(\"NasaData.csv\")\n",
    "\n",
    "\n",
    "LogisReg_Scores=[]\n",
    "GaussNaiveBayes_Scores=[]\n",
    "KNN_Scores=[]\n",
    "Combined_scores=[]\n",
    "\n",
    "for i in range(1,31):\n",
    "    \n",
    "    X_train, X_test, y_train, y_test = train_test_split(\n",
    "    features.values, lables.values,test_size=0.25,random_state=i)\n",
    "    \n",
    "    LogisReg = LogisticRegression().fit(X_train, y_train)\n",
    "    GaussNaiveBayes = GaussianNB().fit(X_train, y_train)\n",
    "    KNN = KNeighborsClassifier().fit(X_train, y_train)\n",
    "    \n",
    "    LogisReg_Scores.append(LogisReg.score(X_test, y_test))\n",
    "    GaussNaiveBayes_Scores.append(GaussNaiveBayes.score(X_test, y_test))\n",
    "    KNN_Scores.append(KNN.score(X_test, y_test))\n",
    "\n",
    "    Combined_scores.append(combine(features.values, lables.values,LogisticRegression,GaussianNB,KNeighborsClassifier,i))\n",
    "\n",
    "\n",
    "axis=pd.DataFrame({\"LogisReg\":LogisReg_Scores, \"NaiveBayes\":GaussNaiveBayes_Scores, \"KNN\":KNN_Scores,\"Combined\":Combined_scores}).boxplot(return_type=\"axes\")\n",
    "# axis.set_ylim([0,1])\n",
    "\n",
    "\n",
    "\n"
   ]
  },
  {
   "cell_type": "markdown",
   "metadata": {},
   "source": [
    "<h1>Part D. Regression (4 marks)</h1>\n"
   ]
  },
  {
   "cell_type": "markdown",
   "metadata": {},
   "source": [
    "In this section, we will use a new data set which is related to the performance of several CPUs. These CPUs are of different specifications, and you have the estimated relative performance(ERP) metric per CPU, in this data set.\n",
    "\n",
    "columns of data set are as follows:\n",
    "\n",
    "    MYCT: machine cycle time in nanoseconds (integer) \n",
    "    MMIN: minimum main memory in kilobytes (integer) \n",
    "    MMAX: maximum main memory in kilobytes (integer) \n",
    "    CACH: cache memory in kilobytes (integer) \n",
    "    CHMIN: minimum channels in units (integer) \n",
    "    CHMAX: maximum channels in units (integer) \n",
    "    PRP: published relative performance (integer) \n",
    "    ERP: estimated relative performance from the original article (integer)\n",
    "\n"
   ]
  },
  {
   "cell_type": "markdown",
   "metadata": {},
   "source": [
    "<h2>Part D.1. Ridge (2 marks)</h2>\n",
    "<br>\n",
    "Read the data that is given to you as a CSV file (\"CPU_Performance.csv\") and take 75% of it as training set and 25% of it as test set with random_state=42. Using linear Regression and Ridge predict ERP using the other columns as features. To see how good you can predict on new CPUs performance, print the score of these two models on training set and test set data. \n",
    "\n",
    "Use the default setup for the models.\n"
   ]
  },
  {
   "cell_type": "code",
   "execution_count": 58,
   "metadata": {},
   "outputs": [
    {
     "name": "stdout",
     "output_type": "stream",
     "text": [
      "****  Linear Regression Prediction Result  ****\n",
      "\tTraining set score: 0.956\n",
      "\tTest set score: 0.895\n",
      "\n",
      "****  Ridge Prediction Result  ****\n",
      "\tTraining set score: 0.956\n",
      "\tTest set score: 0.895\n",
      "\n"
     ]
    }
   ],
   "source": [
    "## Part D.1. Solution\n",
    "\n",
    "import numpy as np\n",
    "from sklearn.model_selection import train_test_split\n",
    "from sklearn.linear_model import Ridge\n",
    "from sklearn.linear_model import Lasso\n",
    "from sklearn.linear_model import LinearRegression\n",
    "\n",
    "features,lables=CSV_Reader(\"CPU_Performance.csv\")\n",
    "\n",
    "X_train, X_test, y_train, y_test = train_test_split(\n",
    "    features, lables,test_size=0.25,random_state=42)\n",
    "\n",
    "\n",
    "lr = LinearRegression().fit(X_train, y_train)\n",
    "print(\"*\"*4,\" Linear Regression Prediction Result \",\"*\"*4)\n",
    "print(\"\\tTraining set score: {:.3f}\".format(lr.score(X_train, y_train)))\n",
    "print(\"\\tTest set score: {:.3f}\\n\".format(lr.score(X_test, y_test)))\n",
    "\n",
    "ridge_model = Ridge().fit(X_train, y_train)\n",
    "print(\"*\"*4,\" Ridge Prediction Result \",\"*\"*4)\n",
    "print(\"\\tTraining set score: {:.3f}\".format(ridge_model.score(X_train, y_train)))\n",
    "print(\"\\tTest set score: {:.3f}\\n\".format(ridge_model.score(X_test, y_test)))\n"
   ]
  },
  {
   "cell_type": "markdown",
   "metadata": {},
   "source": [
    "<h2>Part D.2. Lasso (2 marks)</h2>\n"
   ]
  },
  {
   "cell_type": "markdown",
   "metadata": {},
   "source": [
    "In this section, first tune the Ridge model using regularization, to imprive R^2. \n",
    "\n",
    "Then use Lasso on the same train and test set. Tune Lasso to minimize the number of selected features but still achive higher R^2 than the Linear regression results in Part D.1.\n",
    "\n",
    "Reprot the R^2 and the seleted features.\n"
   ]
  },
  {
   "cell_type": "markdown",
   "metadata": {},
   "source": [
    "<b>Your Answer</b>: ..."
   ]
  },
  {
   "cell_type": "code",
   "execution_count": 59,
   "metadata": {
    "scrolled": true
   },
   "outputs": [
    {
     "name": "stdout",
     "output_type": "stream",
     "text": [
      "****  Better Ridge Prediction Result  ****\n",
      "\tTraining set score: 0.96\n",
      "\tTest set score: 0.90\n",
      "\n",
      "****  Lasso Prediction Result  ****\n",
      "\tTraining set score: 0.952\n",
      "\tTest set score: 0.901\n",
      "\tNumber of features used: 5\n",
      "\tFeatures used: ['MYCT', 'MMIN', 'MMAX', 'CACH', 'PRP']\n",
      "\n"
     ]
    }
   ],
   "source": [
    "## Part D.2. Solution\n",
    "\n",
    "better_ridge = Ridge(alpha=40).fit(X_train, y_train)\n",
    "print(\"*\"*4,\" Better Ridge Prediction Result \",\"*\"*4)\n",
    "print(\"\\tTraining set score: {:.2f}\".format(better_ridge.score(X_train, y_train)))\n",
    "print(\"\\tTest set score: {:.2f}\\n\".format(better_ridge.score(X_test, y_test)))\n",
    "\n",
    "heading=list(features.columns.values)\n",
    "\n",
    "better_lasso=Lasso(alpha=100).fit(X_train, y_train)\n",
    "print(\"*\"*4,\" Lasso Prediction Result \",\"*\"*4)\n",
    "print(\"\\tTraining set score: {:.3f}\".format(better_lasso.score(X_train, y_train)))\n",
    "print(\"\\tTest set score: {:.3f}\".format(better_lasso.score(X_test, y_test)))\n",
    "print(\"\\tNumber of features used: {}\".format(np.sum(better_lasso.coef_ != 0)))\n",
    "print(\"\\tFeatures used: {}\\n\".format([heading[i] for i in range(len(heading))if better_lasso.coef_[i] != 0]))\n"
   ]
  }
 ],
 "metadata": {
  "kernelspec": {
   "display_name": "Python 3",
   "language": "python",
   "name": "python3"
  },
  "language_info": {
   "codemirror_mode": {
    "name": "ipython",
    "version": 3
   },
   "file_extension": ".py",
   "mimetype": "text/x-python",
   "name": "python",
   "nbconvert_exporter": "python",
   "pygments_lexer": "ipython3",
   "version": "3.6.3"
  }
 },
 "nbformat": 4,
 "nbformat_minor": 2
}
