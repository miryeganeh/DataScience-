{
 "cells": [
  {
   "cell_type": "markdown",
   "metadata": {},
   "source": [
    "<h1> <center> ENSF 519.01 Applied Data Scince </center></h1>\n",
    "<h2> <center> Assignment 3: Supervised learning and dimension reduction (25 marks)</center></h2>\n",
    "<h2> <center> Due: March 9, 2018. To be submitted on D2L Dropbox </center></h2>\n"
   ]
  },
  {
   "cell_type": "markdown",
   "metadata": {},
   "source": [
    "In this assignment the focus is on ensemble models for learning and how preprocessing can help improving prediction scores. There are 5 parts that each may use different dataset. All datasets are available as csv files on D2L. "
   ]
  },
  {
   "cell_type": "markdown",
   "metadata": {},
   "source": [
    "<h2>Part A. Defect Prediction - Voting Ensemble Model (4 marks)</h2>\n",
    "<br><br>\n",
    "In this section you need to repeat what you did in your last assignment, HW2 at Part C, but this time you should use VotingClassifier function of SKlearn rather than the Combine function explained in that assignment.\n",
    "<br>\n",
    "Basically, you predict defects on the same NASA dataset using a simple ensemble model consisting of Logistic Regression, Gaussian Naive Bayes, and K-Nearest Neighbor estimators. You need to try both \"soft voting\" and \"hard voting\" options. \n",
    "<br>\n",
    "All models and functions should be called by their default parameters.\n",
    "<br>\n",
    "Same as HW2, you calculate each combined score 30 times (with different random_state seeds for the train_test_splits).\n",
    "Finally, visualize the results as three boxplots of 30 runs per: a) soft voting, b) hard voting, and c) your combined model’s results from HW2. \n",
    "\n"
   ]
  },
  {
   "cell_type": "code",
   "execution_count": 3,
   "metadata": {},
   "outputs": [
    {
     "data": {
      "text/plain": [
       "[Text(0,0.5,'Accuracy'), Text(0.5,0,'Model')]"
      ]
     },
     "execution_count": 3,
     "metadata": {},
     "output_type": "execute_result"
    },
    {
     "data": {
      "image/png": "[encoded data removed]",
      "text/plain": [
       "<matplotlib.figure.Figure at 0x7f86d01ca4a8>"
      ]
     },
     "metadata": {},
     "output_type": "display_data"
    }
   ],
   "source": [
    "import pandas as pd\n",
    "from sklearn.model_selection import train_test_split\n",
    "from sklearn.neighbors import KNeighborsClassifier\n",
    "from sklearn.linear_model import LogisticRegression\n",
    "from sklearn.naive_bayes import GaussianNB\n",
    "from sklearn.ensemble import VotingClassifier\n",
    "import matplotlib.pyplot as plt\n",
    "import numpy as np\n",
    "import math\n",
    "import warnings\n",
    "\n",
    "# this function fits and scores the model for random seeds 1-30\n",
    "def run_model(model, features, labels):\n",
    "    results = []\n",
    "    for x in range(1, 31):\n",
    "        ## split the data into 75% training and 25% testing sets\n",
    "        X_train, X_test, y_train, y_test = train_test_split(features, labels, train_size=0.75, test_size=0.25, random_state = x)\n",
    "        ## fit the model to the training data\n",
    "        model.fit(X_train, y_train)\n",
    "        ## score the model on the test data\n",
    "        results.append(model.score(X_test, y_test))\n",
    "    return results\n",
    "\n",
    "def combine(KNN, LR, GNB, features, labels):\n",
    "    results = []\n",
    "    ## for each random seed 1-30\n",
    "    for x in range(1, 31):\n",
    "        three_results = []\n",
    "        KNN_results = []\n",
    "        LR_results = []\n",
    "        GNB_results = []\n",
    "        ## split the data into 75% training and 25% testing sets\n",
    "        X_train, X_test, y_train, y_test = train_test_split(features, labels, train_size=0.75, test_size=0.25, random_state = x)\n",
    "        ## fit the models to the training data\n",
    "        KNN.fit(X_train, y_train)\n",
    "        LR.fit(X_train, y_train)\n",
    "        GNB.fit(X_train, y_train)\n",
    "        ## predict the probabilities with each model\n",
    "        KNN_results.append(KNN.predict_proba(X_test))\n",
    "        LR_results.append(LR.predict_proba(X_test))\n",
    "        GNB_results.append(GNB.predict_proba(X_test))\n",
    "        three_results = [KNN_results, LR_results, GNB_results]\n",
    "        successes = 0;\n",
    "        ## for each row in the data make a prediction\n",
    "        for y in range(0,len(three_results[0][0])):\n",
    "            ## get a combined prediction\n",
    "            prediction = math.ceil((probability(three_results[0][0][y][0]) + probability(three_results[1][0][y][0]) + probability(three_results[2][0][y][0]))/3)\n",
    "            ## check if the prediction matches the actual label\n",
    "            if(y_test.iloc[y] == prediction):\n",
    "                successes = successes + 1;\n",
    "        ## calculate accuracy for that seed\n",
    "        results.append(successes/len(three_results[0][0]))\n",
    "    return results\n",
    "\n",
    "# return the predicted probability given the class 0 probability\n",
    "def probability(class_0_prob):\n",
    "    # if class 0 is more likely, return (-1) class 0 probability\n",
    "    if(class_0_prob > 0.5):\n",
    "        return (-1 * class_0_prob)\n",
    "    # if class 1 is more likely, return (+1) class 1 probability\n",
    "    else:\n",
    "        return (1 - class_0_prob)\n",
    "\n",
    "# combine the results of the three models with soft voting\n",
    "def soft_voting(KNN, LR, GNB, features, labels):\n",
    "    VC = VotingClassifier(estimators=[('KNN', KNN), ('LR', LR), ('GNB', GNB)], voting='soft', weights=[1, 1, 1])\n",
    "    results = run_model(VC, features, labels)\n",
    "    return results\n",
    "\n",
    "# combine the results of the three models with hard voting\n",
    "def hard_voting(KNN, LR, GNB, features, labels):\n",
    "    VC = VotingClassifier(estimators=[('KNN', KNN), ('LR', LR), ('GNB', GNB)], voting='hard', weights=[1, 1, 1])\n",
    "    results = run_model(VC, features, labels)\n",
    "    return results\n",
    "\n",
    "## hide python warnings\n",
    "warnings.filterwarnings('ignore')\n",
    "\n",
    "## read the data \n",
    "data = pd.read_csv('NasaData.csv')\n",
    "## extact the features\n",
    "features = data.drop('label', axis=1)\n",
    "## extract the labels\n",
    "labels = data['label']\n",
    "\n",
    "results = []\n",
    "\n",
    "## run the three models combined\n",
    "results.append(combine(KNeighborsClassifier(), LogisticRegression(), GaussianNB(), features, labels))\n",
    "results.append(soft_voting(KNeighborsClassifier(), LogisticRegression(), GaussianNB(), features, labels))\n",
    "results.append(hard_voting(KNeighborsClassifier(), LogisticRegression(), GaussianNB(), features, labels))\n",
    "\n",
    "## create a Dataframe of the accuracies\n",
    "df = pd.DataFrame(results).transpose()\n",
    "df.columns = ['Combined', 'Soft Voting', 'Hard Voting']\n",
    "## visualize the accuracies for all the models\n",
    "df.plot.box(figsize=(10, 10),title='Model Accuracies',ylim=(0.74, 0.81)).set(xlabel=\"Model\", ylabel=\"Accuracy\")"
   ]
  },
  {
   "cell_type": "markdown",
   "metadata": {},
   "source": [
    "<h2>Part B. Linear Regression, Random Forest, and Gradient Boosting (5 marks) </h2>\n",
    "\n",
    "In this section, our task is again defect prediction. However, this time each artifact may have zero, one, or more defects. Thus our job is not just predicting defective vs. non-defective targets, but we would like to predict the exact number of defects. This is useful since one can prioritize QA effort based on the number of defects as a sign of severity. To do so we treat the problem as a regression problem not a classification problem.\n",
    "\n",
    "- <b> If we would use a classification rather than regression, explain what kind of classification problem this question could fit in and why? Explain why a regression solution is a better choice.\n",
    "\n"
   ]
  },
  {
   "cell_type": "markdown",
   "metadata": {},
   "source": [
    "<b>Your Answer:</b> This would only make sense as a classification problem if we had discrete classes of severity (e.g. not severe, moderately severe, very severe). A regression solution is better choice because the number of bugs is a continuous measurement in the set of natural numbers. Regression works better when the y values are continuous rather than discrete classes. "
   ]
  },
  {
   "cell_type": "markdown",
   "metadata": {},
   "source": [
    "To build your models you should follow these steps: \n",
    "<br>\n",
    "- read the data from \"OO-DefectPrediction.csv\" \n",
    "\n",
    "- apply a basic linear regression. (with all default parameters)\n",
    "\n",
    "- apply random forest regression. (with all default parameters, that is e.g., n_estimators=10, etc.)\n",
    "\n",
    "- apply gradient boosting regression. (with all default parameters, that is e.g., n_estimators=100, etc.)\n",
    "\n",
    "- calculate all R^2s. Note: You should implement R^2s as follows: \n",
    "  - round each predicted value (y_pred) to create your rounded_y_pred (e.g., 1.6 --> 1 and 0.4 --> 0)\n",
    "  - call sklearn.metrics.r2_score with (y_true, rounded_y_pred)\n",
    "\n",
    "\n",
    "- Run each model 30 times, with a new train test split. Set random_state to range(1,30) every time you create a train-test set. Also use the same seed value ([1..30]) for the corresponding RandomForestRegressor and GradientBoostingRegressor's  random_state parameter. Keep the test set size as default. \n",
    "\n",
    "- Finally, print the median score of those 30 runs for the three models, on the test set.\n",
    "\n",
    "\n"
   ]
  },
  {
   "cell_type": "code",
   "execution_count": 2,
   "metadata": {
    "scrolled": false
   },
   "outputs": [
    {
     "name": "stdout",
     "output_type": "stream",
     "text": [
      "Linear Regression             -0.861343\n",
      "Random Forest Regressor        0.162742\n",
      "Gradient Boosting Regressor    0.181314\n",
      "dtype: float64\n"
     ]
    }
   ],
   "source": [
    "import pandas as pd\n",
    "from sklearn.model_selection import train_test_split\n",
    "from sklearn.linear_model import LinearRegression\n",
    "from sklearn.ensemble import RandomForestRegressor\n",
    "from sklearn.ensemble import GradientBoostingRegressor\n",
    "from sklearn.metrics import r2_score\n",
    "\n",
    "# this function fits and scores the model\n",
    "def run_model(model, features, labels, seed):\n",
    "    ## split the data into 75% training and 25% testing sets\n",
    "    X_train, X_test, y_train, y_test = train_test_split(features, labels, train_size=0.75, test_size=0.25, random_state = seed)\n",
    "    ## fit the model to the training data\n",
    "    model.fit(X_train, y_train)\n",
    "    ## get predictions\n",
    "    y_pred_not_rounded = model.predict(X_test)\n",
    "    ## round predicted values\n",
    "    y_pred = [round(elem, 0) for elem in y_pred_not_rounded]\n",
    "    ## return the r2 score for this run\n",
    "    return r2_score(y_test, y_pred)\n",
    "\n",
    "## read the data \n",
    "data = pd.read_csv('OO-DefectPrediction.csv')\n",
    "## extact the features\n",
    "features = data.drop('bug', axis=1)\n",
    "## extract the labels\n",
    "labels = data['bug']\n",
    "\n",
    "results = []\n",
    "lr = []\n",
    "rfr = []\n",
    "gbr = []\n",
    "\n",
    "## run the three models with random_state and random_seed 1-30\n",
    "for x in range(1, 31):\n",
    "    lr.append(run_model(LinearRegression(), features, labels, x))\n",
    "    rfr.append(run_model(RandomForestRegressor(random_state=x), features, labels, x))\n",
    "    gbr.append(run_model(GradientBoostingRegressor(random_state=x), features, labels, x))\n",
    "    \n",
    "results.append(lr)\n",
    "results.append(rfr)\n",
    "results.append(gbr)\n",
    "\n",
    "## create a Dataframe of the accuracies\n",
    "df = pd.DataFrame(results).transpose()\n",
    "df.columns = ['Linear Regression', 'Random Forest Regressor', 'Gradient Boosting Regressor']\n",
    "print(df.median(axis=0))"
   ]
  },
  {
   "cell_type": "markdown",
   "metadata": {},
   "source": [
    "<h2>Part C. Improving regression by tuning (5 marks)</h2>\n",
    "<br><br>\n",
    "In this part, we want to improve the R^2's achieved by the default setups, in Part B. To reduce the scope of the assignment we only focus on RandomForestRegressor, in this part. We approach the problem by tuning the RandomForestRegressor's main parameters (max_depth, and n_estimators)."
   ]
  },
  {
   "cell_type": "markdown",
   "metadata": {},
   "source": [
    "You first need to apply RandomForestRegressor with different values of max_depth as [3,4,5,6,7,None] (None means no maximum). n_estimators should be tested with this values [10,20,30,...,100]. \n",
    "\n",
    "Keep other parameters of RandomForestRegressor the same as Part B. \n",
    "\n",
    "Run each configuration 30 times (with random seeds [1..30]) and calculate the median R^2 per configuration. \n",
    "\n",
    "Find the best configuration of n_estimators and max_depth among the ones you tested, with the highest median R^2. \n",
    "\n",
    "Report the best configuration you found by printing the max_depth, the n_estimators, and the resulting median R^2.\n",
    "\n",
    "How much improvement you achieved compared to the default set up of RandomForestRegressor in Part B?\n"
   ]
  },
  {
   "cell_type": "code",
   "execution_count": 5,
   "metadata": {},
   "outputs": [
    {
     "name": "stdout",
     "output_type": "stream",
     "text": [
      "Number of estimators: 80\n",
      "Max depth: 5\n",
      "Highest Median R^2: 0.33626856846786435\n"
     ]
    }
   ],
   "source": [
    "import pandas as pd\n",
    "from sklearn.model_selection import train_test_split\n",
    "from sklearn.ensemble import RandomForestRegressor\n",
    "from sklearn.metrics import r2_score\n",
    "\n",
    "# this function fits and scores the model for random seeds 1-30\n",
    "def run_model(model, features, labels, seed):\n",
    "    ## split the data into 75% training and 25% testing sets\n",
    "    X_train, X_test, y_train, y_test = train_test_split(features, labels, train_size=0.75, test_size=0.25, random_state = seed)\n",
    "    ## fit the model to the training data\n",
    "    model.fit(X_train, y_train)\n",
    "    ## get predictions\n",
    "    y_pred_not_rounded = model.predict(X_test)\n",
    "    ## round predicted values\n",
    "    y_pred = [round(elem, 0) for elem in y_pred_not_rounded]\n",
    "    return r2_score(y_test, y_pred)\n",
    "\n",
    "## read the data \n",
    "data = pd.read_csv('OO-DefectPrediction.csv')\n",
    "## extact the features\n",
    "features = data.drop('bug', axis=1)\n",
    "## extract the labels\n",
    "labels = data['bug']\n",
    "\n",
    "results = []\n",
    "scores = []\n",
    "n_estimators = [10,20,30,40,50,60,70,80,90,100]\n",
    "max_depth = [3,4,5,6,7,None]\n",
    "\n",
    "for i in n_estimators:\n",
    "    for j in max_depth:\n",
    "        ## run model for each combination of n_estimators and max_depth\n",
    "        scores = []\n",
    "        ## run model with each seed value\n",
    "        for seed in range(1, 31):\n",
    "            scores.append(run_model(RandomForestRegressor(random_state=seed, n_estimators=i, max_depth=j), features, labels, seed))\n",
    "        sr = pd.Series(scores)\n",
    "        results.append([i, j, float(sr.median(axis=0))])\n",
    "\n",
    "n_est = 0\n",
    "max_d = 0\n",
    "        \n",
    "max_median = float(-100)\n",
    "## loop through all the results\n",
    "for item in results:\n",
    "    if(item[2] > max_median):\n",
    "        ## set new max_median and store corresponding n_estimators and max_depth values\n",
    "        max_median = item[2]\n",
    "        n_est = item[0]\n",
    "        max_d = item[1]\n",
    "        \n",
    "print(\"Number of estimators:\", n_est)\n",
    "print(\"Max depth:\", max_d)\n",
    "print(\"Highest Median R^2:\", max_median)"
   ]
  },
  {
   "cell_type": "markdown",
   "metadata": {},
   "source": [
    "<h1>Part D. Dimension reduction - feature selection (7 marks)</h1>\n",
    "<br><br>\n",
    "\n",
    "In this section, we want to compare the dimension reduction ability of PCA with linear regression models. \n",
    "\n",
    "To use linear regression model as a dimension reduction technique, we fit the model and pick the most informative features and represent the data with only those features. \n",
    "\n",
    "Our dataset is \"ApacheAll.csv\", which records some performance measurements of an APACHE Web Server, which have been collected using a standard benchmark. See https://zenodo.org/record/322483#.WoZap5PwaRv for more details about the dataset.\n",
    "\n",
    "<br>\n",
    "Steps:  \n",
    "- Apply Linear Regression on \"ApacheAll.csv\" data and find the coefficient of each feature and pick the two greatest ones. Reduce the dimensionality of your dataset by only keeping these two features in your train and test set.\n",
    "    - use default parameters.\n",
    "- Fit a PCA model on the original training set and pick the first two principal components (which contains most of the variations). Transform both training and test sets to this new space (2 dimensions).\n",
    "    - use default parameters.  \n",
    "    \n",
    "- Build 3 random forest regression models: a) use the train and test set given by linear regression selected features, b) use PCA transformed data, c) use the original training and test sets.\n",
    "    \n",
    "    \n",
    "- repeat the above three steps 30 times with random_state range [1..30] for both train/test splitter and RandomForestRegressor. Note that for each run a new PCA and Linear regression should be applied (i.e., do not transform new data based on the old fitted models)\n",
    "\n",
    "- For all three models \n",
    "    - print the median regression scores (over 30 runs) \n",
    "\n",
    "- Explain your observation with respect to relative performance of PCA and linear regression for dimension reduction and why this has happened."
   ]
  },
  {
   "cell_type": "code",
   "execution_count": 6,
   "metadata": {
    "scrolled": false
   },
   "outputs": [
    {
     "name": "stdout",
     "output_type": "stream",
     "text": [
      "Original Features             0.962045\n",
      "Linear Regression Features    0.679194\n",
      "PCA Features                  0.195104\n",
      "dtype: float64\n"
     ]
    }
   ],
   "source": [
    "import pandas as pd\n",
    "from sklearn.model_selection import train_test_split\n",
    "from sklearn.linear_model import LinearRegression\n",
    "from sklearn.ensemble import RandomForestClassifier\n",
    "from sklearn.metrics import r2_score\n",
    "from sklearn.decomposition import PCA\n",
    "\n",
    "# this function fits and scores the model for random seeds 1-30\n",
    "def run_model(model, features, labels, seed):\n",
    "    ## split the data into 75% training and 25% testing sets\n",
    "    X_train, X_test, y_train, y_test = train_test_split(features, labels, train_size=0.75, test_size=0.25, random_state = seed)\n",
    "    ## fit the model to the training data\n",
    "    model.fit(X_train, y_train)\n",
    "    ## get predictions\n",
    "    y_pred_not_rounded = model.predict(X_test)\n",
    "    ## round predictions\n",
    "    y_pred = [round(elem, 0) for elem in y_pred_not_rounded]\n",
    "    ## return r2 score for this run\n",
    "    return r2_score(y_test, y_pred)\n",
    "\n",
    "def run_models(model1, model2, features, labels, seed):\n",
    "    ## split the data into 75% training and 25% testing sets\n",
    "    X_train, X_test, y_train, y_test = train_test_split(features, labels, train_size=0.75, test_size=0.25, random_state = seed)\n",
    "    ## fit the first model to the data\n",
    "    model1.fit(X_train)\n",
    "    ## transform the training feature data with the first model\n",
    "    X_train_pca = model1.transform(X_train)\n",
    "    ## transform the test feature data with the first model\n",
    "    X_test_pca = model1.transform(X_test)\n",
    "    ## fit the second model to the transformed training data\n",
    "    model2.fit(X_train_pca, y_train)\n",
    "    ## predict with the second model on the transformed test data\n",
    "    y_pred_not_rounded = model2.predict(X_test_pca)\n",
    "    ## round the predictions\n",
    "    y_pred = [round(elem, 0) for elem in y_pred_not_rounded]\n",
    "    ## return the r2 score for the second model\n",
    "    return r2_score(y_test, y_pred)\n",
    "\n",
    "## read the data \n",
    "data = pd.read_csv('ApacheAll.csv')\n",
    "## extact the two most important features according to Linear Regression\n",
    "lr_features = data[['$KeepAlive', '$InMemory']]\n",
    "## extract all features\n",
    "features = data.drop('$<Performance', axis=1)\n",
    "## extract the labels\n",
    "labels = data['$<Performance']\n",
    "\n",
    "results = []\n",
    "regular = []\n",
    "lr = []\n",
    "pca = []\n",
    "\n",
    "## run the three models combined\n",
    "for x in range(1, 31):\n",
    "    regular.append(run_model(RandomForestRegressor(random_state=x), features, labels, x))\n",
    "    lr.append(run_model(RandomForestRegressor(random_state=x), lr_features, labels, x))\n",
    "    pca.append(run_models(PCA(n_components=2), RandomForestRegressor(random_state=x), features, labels, x))\n",
    "\n",
    "results.append(regular)\n",
    "results.append(lr)\n",
    "results.append(pca)\n",
    "\n",
    "## create a Dataframe of the accuracies\n",
    "df = pd.DataFrame(results).transpose()\n",
    "df.columns = ['Original Features', 'Linear Regression Features', 'PCA Features']#, 'Random Forest Classifier', 'Gradient Boosting Classifier']\n",
    "print(df.median(axis=0))"
   ]
  },
  {
   "cell_type": "markdown",
   "metadata": {},
   "source": [
    "The original feature set has the best predictions. This makes sense, because when you do dimensionality reduction you are losing information, and thus the reduced dimensionality predictions are usually worse than predictions with the original feature data.\n",
    "\n",
    "The two most important features in the dataset chosen by Linear Regression (\\$KeepAlive and \\$InMemory) seem like they are likely correlated. PCA assumes the principle features are uncorrelated, so this may be why PCA does not have as good of predictions as with the Linear Regression selected features."
   ]
  },
  {
   "cell_type": "markdown",
   "metadata": {},
   "source": [
    "<h1>Part E. Dimension reduction for visualization (4 marks)</h1>"
   ]
  },
  {
   "cell_type": "markdown",
   "metadata": {},
   "source": [
    "One of the main use cases of dimensionality reduction techniques is for visualization of high dimensional datasets.\n",
    "In this part, we use the same OO-DefectPrediction.csv dataset and visualize it in just two dimensions.\n",
    "\n",
    "Steps :\n",
    "\n",
    "- Read the data from \"OO-DefectPrediction.csv\".\n",
    "- Transform the data to principal components using pca. \n",
    "- visualize data using the two first principal components. You should use different color code to visualize number of bugs. \n",
    "- explain your observations.\n"
   ]
  },
  {
   "cell_type": "code",
   "execution_count": 7,
   "metadata": {},
   "outputs": [
    {
     "data": {
      "image/png": "[encoded data removed]",
      "text/plain": [
       "<matplotlib.figure.Figure at 0x7f86cb66e470>"
      ]
     },
     "metadata": {},
     "output_type": "display_data"
    }
   ],
   "source": [
    "import pandas as pd\n",
    "from sklearn.decomposition import PCA\n",
    "\n",
    "import matplotlib.pyplot as plt\n",
    "import numpy as np\n",
    "import math\n",
    "\n",
    "## read the data \n",
    "data = pd.read_csv('OO-DefectPrediction.csv')\n",
    "## extact the features\n",
    "features = data.drop('bug', axis=1)\n",
    "## extract the labels\n",
    "labels = data['bug']\n",
    "\n",
    "pca = PCA(n_components=2)\n",
    "\n",
    "## fit the model to the features\n",
    "pca.fit(features)\n",
    "## transform the features\n",
    "features = pca.transform(features)\n",
    "\n",
    "## create a Dataframe of the accuracies\n",
    "df_features = pd.DataFrame(features)\n",
    "df_labels = pd.DataFrame(labels)\n",
    "df = pd.concat([df_features, df_labels], axis=1)\n",
    "df.columns=['Feature 0', 'Feature 1', 'Bugs']\n",
    "## plot the data, with the 'Bugs' column as the colour scale\n",
    "fig = df.plot.scatter(x='Feature 0', y='Feature 1', c='Bugs', sharex=False)\n",
    "## colour the plot red so you can see the lighter points clearly\n",
    "fig.set_facecolor((1,0,0,0.7))"
   ]
  },
  {
   "cell_type": "markdown",
   "metadata": {},
   "source": [
    "There are a smaller number of bugs when the values of Feature 0 and Feature 1 are closer to zero, and higher when either feature is a large positive value."
   ]
  }
 ],
 "metadata": {
  "kernelspec": {
   "display_name": "Python 3",
   "language": "python",
   "name": "python3"
  },
  "language_info": {
   "codemirror_mode": {
    "name": "ipython",
    "version": 3
   },
   "file_extension": ".py",
   "mimetype": "text/x-python",
   "name": "python",
   "nbconvert_exporter": "python",
   "pygments_lexer": "ipython3",
   "version": "3.6.3"
  }
 },
 "nbformat": 4,
 "nbformat_minor": 2
}
